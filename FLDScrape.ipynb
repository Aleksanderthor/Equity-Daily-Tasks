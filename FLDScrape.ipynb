{
 "cells": [
  {
   "cell_type": "code",
   "execution_count": 29,
   "metadata": {
    "scrolled": false
   },
   "outputs": [],
   "source": [
    "import requests\n",
    "from bs4 import BeautifulSoup\n",
    "\n",
    "def funds(isin):\n",
    "    url = 'http://nordeagws.gws.fcnws.com/fs_Oversigt.html?isin='+isin+'&clientid=seif&shelves=SEIF&currency=SEK&culture=sv-SE&CategoryFilter:taborder=1,2,3,4,5,15'\n",
    "\n",
    "    result = requests.get(url)\n",
    "    content = result.content\n",
    "    soup = BeautifulSoup(result.text, 'html.parser')\n",
    "\n",
    "    t = soup.find_all('li',{'title=\"\">Kurs</span> <span class=\"value col5 alignright\">':''})\n",
    "\n",
    "    text = t[14:18]\n",
    "\n",
    "    value = []\n",
    "    for i in text[0]:\n",
    "        value.append(i)\n",
    "\n",
    "    date = []\n",
    "    for i in text[3]:\n",
    "        date.append(i)\n",
    "\n",
    "\n",
    "    værdi = str(str(str(value[3:4][0]).split('>')[1:]).split('<')[0]).replace('[','').replace(\"'\",'').replace(',','.')\n",
    "    dato = str(str(str(date[3:4][0]).split('>')[1:]).split('<')[0]).replace('[','').replace(\"'\",'').replace(',','.')\n",
    "    \n",
    "\n",
    "    print(isin+' '+værdi+' '+dato)"
   ]
  },
  {
   "cell_type": "code",
   "execution_count": 31,
   "metadata": {},
   "outputs": [
    {
     "name": "stdout",
     "output_type": "stream",
     "text": [
      "SE0004330082 94.00 2018-01-12\n"
     ]
    }
   ],
   "source": [
    "funds('SE0004330082')"
   ]
  },
  {
   "cell_type": "code",
   "execution_count": null,
   "metadata": {
    "collapsed": true
   },
   "outputs": [],
   "source": []
  }
 ],
 "metadata": {
  "kernelspec": {
   "display_name": "Python 3",
   "language": "python",
   "name": "python3"
  },
  "language_info": {
   "codemirror_mode": {
    "name": "ipython",
    "version": 3
   },
   "file_extension": ".py",
   "mimetype": "text/x-python",
   "name": "python",
   "nbconvert_exporter": "python",
   "pygments_lexer": "ipython3",
   "version": "3.6.1"
  }
 },
 "nbformat": 4,
 "nbformat_minor": 2
}
