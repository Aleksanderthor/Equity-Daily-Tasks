{
 "cells": [
  {
   "cell_type": "markdown",
   "metadata": {},
   "source": [
    "## Print the Names that need to be checked in Bloomberg"
   ]
  },
  {
   "cell_type": "code",
   "execution_count": 1,
   "metadata": {},
   "outputs": [
    {
     "name": "stdout",
     "output_type": "stream",
     "text": [
      "Total Names in Today's file = 46\n",
      "Check the following names in Bloomberg:\n",
      "<Worksheet \"HSBA\">\n",
      "<Worksheet \"SREN\">\n",
      "<Worksheet \"ALVGY\">\n",
      "<Worksheet \"ROG\">\n",
      "<Worksheet \"F\">\n",
      "<Worksheet \"SWS1V\">\n",
      "<Worksheet \"CA\">\n"
     ]
    }
   ],
   "source": [
    "import xlwings as xw\n",
    "import pandas as pd\n",
    "import openpyxl\n",
    "import numpy as np\n",
    "import datetime as datetime\n",
    "\n",
    "Today = str(datetime.datetime.today().strftime(\"%Y-%m-%d\"))\n",
    "\n",
    "wb = openpyxl.load_workbook(r'\\\\S64A603\\FCNordic\\Structured Equity Trading\\Volatility Monitor\\Daily category 3 control\\IVMvA '+Today+'.xlsm')\n",
    "ws = wb.active\n",
    "\n",
    "List = []\n",
    "\n",
    "for i in wb.worksheets[10:]:\n",
    "    if i['B14'].value != 'Hist vol scaling':\n",
    "        for col in i['F2:ER2']:\n",
    "            for cell in col:\n",
    "                if (cell.value > 0.90) & (cell.value < 1.15):\n",
    "                    for row in i['F1:F100']:\n",
    "                        for c in row:\n",
    "\n",
    "                             if c.value == 'Difference':\n",
    "                                    Q = c.row\n",
    "                             if c.value == 'Relative diff':\n",
    "                                    Z = c.row\n",
    "                             if c.value == 'Spread':\n",
    "                                    X = c.row\n",
    "\n",
    "                                    for t in i['D'+str(Q)+':'+str(Z)]:\n",
    "                                        for gg in t:\n",
    "                                            if gg.value > 0.30:\n",
    "                                                TT = gg.row\n",
    "\n",
    "                                                for ll in i[cell.column][TT:Z]:\n",
    "                                                    if ll.value >= 0.01:\n",
    "                                                        for t in i['D'+str(Z)+':'+str(X)]:\n",
    "                                                            for gg in t:\n",
    "                                                                if gg.value > 0.30:\n",
    "                                                                    TT = gg.row\n",
    "                                                                    for ll in i[cell.column][TT:X]:\n",
    "                                                                        if ll.value >= 1.0:\n",
    "                                                                            List.append(i)\n",
    "                                                                        if (ll.value <= -1.0) & (ll.value > -100):\n",
    "                                                                            List.append(i)\n",
    "\n",
    "                                                    if (ll.value <= -0.01) & (ll.value != 0) & (ll.value > -100):          \n",
    "                                                        for t in i['D'+str(Z)+':'+str(X)]:\n",
    "                                                            for gg in t:\n",
    "                                                                if gg.value > 0.30:\n",
    "                                                                    TT = gg.row\n",
    "                                                                    for ll in i[cell.column][TT:X]:\n",
    "                                                                        if ll.value >= 1.0:\n",
    "                                                                            List.append(i)\n",
    "                                                                        if (ll.value <= -1.0) & (ll.value > -100):\n",
    "                                                                            List.append(i)\n",
    "\n",
    "                                                        \n",
    "print(\"Total Names in Today's file = \"+str(len(wb.get_sheet_names()[10:]))+\"\\n\"+\"Check the following names in Bloomberg:\")                                                       \n",
    "W = np.unique(List)\n",
    "\n",
    "for i in W:\n",
    "    print(i)"
   ]
  },
  {
   "cell_type": "markdown",
   "metadata": {},
   "source": [
    "### Get their Bloomberg Ticker"
   ]
  },
  {
   "cell_type": "code",
   "execution_count": 3,
   "metadata": {},
   "outputs": [
    {
     "name": "stdout",
     "output_type": "stream",
     "text": [
      "   name        description bloomberg_ticker\n",
      "0  HSBA  HSBC Holdings PLC          HSBA LN\n",
      "   name  description bloomberg_ticker\n",
      "0  SREN  SWISS RE AG          SREN SE\n",
      "    name description bloomberg_ticker\n",
      "0  ALVGY  Allianz SE           ALV GY\n",
      "  name       description bloomberg_ticker\n",
      "0  ROG  Roche Holding AG           ROG SE\n",
      "  name    description bloomberg_ticker\n",
      "0    F  Ford Motor Co             F UN\n",
      "    name description bloomberg_ticker\n",
      "0  SWS1V  Sanoma OYJ         SAA1V FH\n",
      "  name   description bloomberg_ticker\n",
      "0   CA  Carrefour SA            CA FP\n"
     ]
    }
   ],
   "source": [
    "from marvin import marvin_cfg\n",
    "\n",
    "Q = []\n",
    "for i in W:\n",
    "    Q.append(i.title)\n",
    "\n",
    "conn1 = marvin_cfg.get_connection('trmp')\n",
    "\n",
    "for i in range(0,len(Q)):\n",
    "    try:\n",
    "        print(pd.read_sql(\"Select name, description, bloomberg_ticker from STED.Q_EQ_CONVENTIONS_EXT where name ='\"+Q[i]+\"'\",conn1))\n",
    "    except:\n",
    "        pass"
   ]
  },
  {
   "cell_type": "markdown",
   "metadata": {},
   "source": [
    "### Only show the relevant columns and rows in Inf vol monitor in order to avoid scrolling"
   ]
  },
  {
   "cell_type": "code",
   "execution_count": 4,
   "metadata": {},
   "outputs": [
    {
     "data": {
      "text/plain": [
       "48"
      ]
     },
     "execution_count": 4,
     "metadata": {},
     "output_type": "execute_result"
    }
   ],
   "source": [
    "import datetime as datetime\n",
    "import openpyxl\n",
    "\n",
    "Today = str(datetime.datetime.today().strftime(\"%Y-%m-%d\"))\n",
    "\n",
    "wb = openpyxl.load_workbook(r'\\\\S64A603\\FCNordic\\Structured Equity Trading\\Volatility Monitor\\Daily category 3 control\\IVMvA '+Today+'.xlsm')\n",
    "ws = wb.active\n",
    "\n",
    "for i in wb.worksheets[8:]:\n",
    "    i.freeze_panes = 'F1'\n",
    "    \n",
    "for i in wb.worksheets[8:]:\n",
    "    for col in i['F2:ER2']:\n",
    "        for cell in col:\n",
    "            if (cell.value < 0.90) | (cell.value > 1.15):\n",
    "                i.column_dimensions[cell.column].visible = False\n",
    "                             \n",
    "for b in wb.worksheets[8:]:\n",
    "    for row in b['D5:D100']:\n",
    "        for cell in row:\n",
    "             if (cell.value < 0.30) & (cell.value > 0.0001):\n",
    "                b.row_dimensions[cell.row].hidden = True                \n",
    "\n",
    "wb.save(r'H:\\My documents\\freezeExample.xlsx')    \n",
    "\n",
    "len(wb.get_sheet_names()[8:])"
   ]
  }
 ],
 "metadata": {
  "kernelspec": {
   "display_name": "Python 2",
   "language": "python",
   "name": "python2"
  },
  "language_info": {
   "codemirror_mode": {
    "name": "ipython",
    "version": 2
   },
   "file_extension": ".py",
   "mimetype": "text/x-python",
   "name": "python",
   "nbconvert_exporter": "python",
   "pygments_lexer": "ipython2",
   "version": "2.7.13"
  }
 },
 "nbformat": 4,
 "nbformat_minor": 2
}
