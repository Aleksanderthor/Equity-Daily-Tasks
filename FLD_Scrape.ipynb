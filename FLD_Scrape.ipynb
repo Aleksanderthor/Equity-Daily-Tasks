{
 "cells": [
  {
   "cell_type": "code",
   "execution_count": 1,
   "metadata": {},
   "outputs": [
    {
     "name": "stdout",
     "output_type": "stream",
     "text": [
      "180.10\t2018-01-16\n",
      "94.07\t2018-01-16\n",
      "155.11\t2018-01-16\n",
      "103.70\t2018-01-16\n",
      "7.46\t2018-01-16\n",
      "132.01\t2018-01-16\n",
      "161.99\t2018-01-16\n",
      "103.19\t2018-01-16\n"
     ]
    }
   ],
   "source": [
    "import requests\n",
    "from bs4 import BeautifulSoup\n",
    "\n",
    "def funds(isin):\n",
    "    url = 'http://nordeagws.gws.fcnws.com/fs_Oversigt.html?isin='+isin+'&clientid=seif&shelves=SEIF&currency=SEK&culture=sv-SE&CategoryFilter:taborder=1,2,3,4,5,15'\n",
    "\n",
    "    result = requests.get(url, headers={'User-agent': 'Mozilla/5.0'})\n",
    "    content = result.content\n",
    "    soup = BeautifulSoup(result.text, 'html.parser')\n",
    "\n",
    "    t = soup.find_all('li',{'title=\"\">Kurs</span> <span class=\"value col5 alignright\">':''})\n",
    "\n",
    "    text = t[14:18]\n",
    "\n",
    "    value = []\n",
    "    for i in text[0]:\n",
    "        value.append(i)\n",
    "\n",
    "    date = []\n",
    "    for i in text[3]:\n",
    "        date.append(i)\n",
    "\n",
    "\n",
    "    vardi = str(str(str(value[3:4][0]).split('>')[1:]).split('<')[0]).replace('[','').replace(\"'\",'').replace(',','.')\n",
    "    dato = str(str(str(date[3:4][0]).split('>')[1:]).split('<')[0]).replace('[','').replace(\"'\",'').replace(',','.')\n",
    "    \n",
    "\n",
    "    print(vardi+\"\\t\"+dato)\n",
    "    \n",
    "Funds = ['SE0003269091',\n",
    "'SE0004330082',\n",
    "'SE0000524449',\n",
    "'FI0008813191',\n",
    "'FI4000097167',\n",
    "'FI0008813365',\n",
    "'LU0278531453',\n",
    "'LU0458980835'\n",
    "]\n",
    "\n",
    "for i in Funds:\n",
    "    funds(i)"
   ]
  },
  {
   "cell_type": "code",
   "execution_count": null,
   "metadata": {
    "collapsed": true
   },
   "outputs": [],
   "source": []
  }
 ],
 "metadata": {
  "kernelspec": {
   "display_name": "Python 2",
   "language": "python",
   "name": "python2"
  },
  "language_info": {
   "codemirror_mode": {
    "name": "ipython",
    "version": 2
   },
   "file_extension": ".py",
   "mimetype": "text/x-python",
   "name": "python",
   "nbconvert_exporter": "python",
   "pygments_lexer": "ipython2",
   "version": "2.7.13"
  }
 },
 "nbformat": 4,
 "nbformat_minor": 2
}
